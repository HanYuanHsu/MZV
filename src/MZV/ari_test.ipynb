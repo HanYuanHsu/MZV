{
 "cells": [
  {
   "cell_type": "code",
   "execution_count": 1,
   "metadata": {},
   "outputs": [],
   "source": [
    "# Reload all modules (except those excluded by %aimport) every time before executing the Python code typed\n",
    "# in the prompt.\n",
    "# useful for testing\n",
    "%load_ext autoreload\n",
    "%autoreload 2"
   ]
  },
  {
   "cell_type": "code",
   "execution_count": 8,
   "metadata": {},
   "outputs": [],
   "source": [
    "import utils\n",
    "import ari\n",
    "import flexions as flex\n",
    "pol = utils.poly"
   ]
  },
  {
   "cell_type": "code",
   "execution_count": 18,
   "metadata": {},
   "outputs": [
    {
     "name": "stdout",
     "output_type": "stream",
     "text": [
      "-1\n",
      "0\n"
     ]
    }
   ],
   "source": [
    "p = pol({(3, 1): -1, (1, 3): 1})\n",
    "print(p.coeff_of((3, 1))) # -1\n",
    "print(p.coeff_of((-1245, 1))) # 0"
   ]
  },
  {
   "cell_type": "code",
   "execution_count": 3,
   "metadata": {},
   "outputs": [
    {
     "name": "stdout",
     "output_type": "stream",
     "text": [
      "{(3, 1): -1, (1, 3): 1}\n",
      "{(3, 1): -1, (1, 3): 8, (2, 2): 4}\n"
     ]
    }
   ],
   "source": [
    "p = pol({(3, 1): -1, (1, 3): 1})\n",
    "q = pol({})\n",
    "p.add(q) # p is the same\n",
    "print(p)\n",
    "\n",
    "p = pol({(3, 1): -1, (1, 3): 1})\n",
    "q = pol({(1, 3): 7, (2, 2): 4})\n",
    "p.add(q) # p is now {(3, 1): -1, (1, 3): 8, (2, 2): 4}\n",
    "print(p)"
   ]
  },
  {
   "cell_type": "code",
   "execution_count": 11,
   "metadata": {},
   "outputs": [
    {
     "name": "stdout",
     "output_type": "stream",
     "text": [
      "{(3, 1): -1, (1, 3): 1}\n",
      "{(3, 1): -1, (1, 3): 8, (2, 2): 4}\n"
     ]
    }
   ],
   "source": [
    "p = pol({(3, 1): -1, (1, 3): 1})\n",
    "q = pol({})\n",
    "print(p + q)\n",
    "\n",
    "p = pol({(3, 1): -1, (1, 3): 1})\n",
    "q = pol({(1, 3): 7, (2, 2): 4})             \n",
    "print(p + q) # {(3, 1): -1, (1, 3): 8, (2, 2): 4}"
   ]
  },
  {
   "cell_type": "code",
   "execution_count": 14,
   "metadata": {},
   "outputs": [
    {
     "name": "stdout",
     "output_type": "stream",
     "text": [
      "{(3, 1): -2, (1, 3): 2}\n",
      "{(3, 1): 0, (1, 3): 0}\n"
     ]
    }
   ],
   "source": [
    "p = pol({(3, 1): -1, (1, 3): 1})\n",
    "print(p * 2)\n",
    "print(p * 0)\n",
    "# print(2 * p) # error"
   ]
  },
  {
   "cell_type": "code",
   "execution_count": 17,
   "metadata": {},
   "outputs": [
    {
     "name": "stdout",
     "output_type": "stream",
     "text": [
      "{(3, 1): 7, (1, 3): 0, (2, 2): 4}\n"
     ]
    }
   ],
   "source": [
    "p = pol({(3, 1): -1, (1, 3): 1})\n",
    "q = pol({(1, 3): 7, (2, 2): 4})\n",
    "print(p * (-7) + q)"
   ]
  },
  {
   "cell_type": "code",
   "execution_count": 41,
   "metadata": {},
   "outputs": [
    {
     "data": {
      "text/plain": [
       "0"
      ]
     },
     "execution_count": 41,
     "metadata": {},
     "output_type": "execute_result"
    }
   ],
   "source": [
    "D = ari.derivative(flex.f, flex.phi)\n",
    "D.diff((5,5,5,5), (9,1,8), (1,2,3,4,5,6,7))"
   ]
  },
  {
   "cell_type": "code",
   "execution_count": 36,
   "metadata": {},
   "outputs": [
    {
     "data": {
      "text/plain": [
       "9"
      ]
     },
     "execution_count": 36,
     "metadata": {},
     "output_type": "execute_result"
    }
   ],
   "source": [
    "flex.f((1,1,2,7), 11)"
   ]
  },
  {
   "cell_type": "code",
   "execution_count": 37,
   "metadata": {},
   "outputs": [
    {
     "data": {
      "text/plain": [
       "11"
      ]
     },
     "execution_count": 37,
     "metadata": {},
     "output_type": "execute_result"
    }
   ],
   "source": [
    "flex.f((), 11)"
   ]
  },
  {
   "cell_type": "code",
   "execution_count": 38,
   "metadata": {},
   "outputs": [
    {
     "data": {
      "text/plain": [
       "(6, 7, 4, 0)"
      ]
     },
     "execution_count": 38,
     "metadata": {},
     "output_type": "execute_result"
    }
   ],
   "source": [
    "flex.phi(1, (7,8,5,1))"
   ]
  },
  {
   "cell_type": "code",
   "execution_count": 5,
   "metadata": {},
   "outputs": [
    {
     "data": {
      "text/plain": [
       "(3, 1, 2)"
      ]
     },
     "execution_count": 5,
     "metadata": {},
     "output_type": "execute_result"
    }
   ],
   "source": [
    "a = (3,1,2,4)\n",
    "a[:-1]"
   ]
  },
  {
   "cell_type": "code",
   "execution_count": 6,
   "metadata": {},
   "outputs": [
    {
     "data": {
      "text/plain": [
       "(4,)"
      ]
     },
     "execution_count": 6,
     "metadata": {},
     "output_type": "execute_result"
    }
   ],
   "source": [
    "a = (3,1,2,4)\n",
    "a[-1:]"
   ]
  },
  {
   "cell_type": "code",
   "execution_count": 54,
   "metadata": {},
   "outputs": [
    {
     "data": {
      "text/plain": [
       "10"
      ]
     },
     "execution_count": 54,
     "metadata": {},
     "output_type": "execute_result"
    }
   ],
   "source": [
    "def add(x, y):\n",
    "    return x + y\n",
    "\n",
    "def add_double(*args):\n",
    "    if len(args) != 2:\n",
    "        return \"not correct arg length\"\n",
    "    \n",
    "    result = []\n",
    "    for i in args:\n",
    "        result.append(2 * i)\n",
    "    return add(*result) # python's unpacking operator. \n",
    "# Can unpack the values from any iterable object, such as lists, tuples, strings, etc\n",
    "add_double(2,3)"
   ]
  },
  {
   "cell_type": "code",
   "execution_count": 60,
   "metadata": {},
   "outputs": [
    {
     "name": "stdout",
     "output_type": "stream",
     "text": [
      "Hello\n",
      "1\n",
      "2\n"
     ]
    }
   ],
   "source": [
    "class poly(dict):\n",
    "    def sayHello(self):\n",
    "        print(\"Hello\")\n",
    "    def printKeys(self):\n",
    "        for key in self:\n",
    "            print(key)\n",
    "\n",
    "p = poly([(1,3), (2,8)])\n",
    "p.sayHello()\n",
    "p.printKeys()"
   ]
  },
  {
   "cell_type": "code",
   "execution_count": 61,
   "metadata": {},
   "outputs": [
    {
     "name": "stdout",
     "output_type": "stream",
     "text": [
      "(3, 1)\n",
      "(1, 3)\n"
     ]
    }
   ],
   "source": [
    "q = poly({(3, 1): -1, (1, 3): 1})\n",
    "q.printKeys()"
   ]
  },
  {
   "cell_type": "code",
   "execution_count": 78,
   "metadata": {},
   "outputs": [
    {
     "data": {
      "text/plain": [
       "{((1, 1), (1,)): 5751,\n",
       " ((2, 2), (1,)): 5832,\n",
       " ((1, 1), (2,)): 5822,\n",
       " ((2, 2), (2,)): 5904}"
      ]
     },
     "execution_count": 78,
     "metadata": {},
     "output_type": "execute_result"
    }
   ],
   "source": [
    "p = pol({(1,1): 71, (2,2): 72})\n",
    "q = pol({(1,): 81, (2,): 82})\n",
    "utils.test_lin_extend_helper((p,q))"
   ]
  },
  {
   "cell_type": "code",
   "execution_count": 79,
   "metadata": {},
   "outputs": [
    {
     "data": {
      "text/plain": [
       "{}"
      ]
     },
     "execution_count": 79,
     "metadata": {},
     "output_type": "execute_result"
    }
   ],
   "source": [
    "p = pol({(1,1): 71, (2,2): 72})\n",
    "q = pol({})\n",
    "utils.test_lin_extend_helper((p,q))"
   ]
  },
  {
   "cell_type": "code",
   "execution_count": 4,
   "metadata": {},
   "outputs": [
    {
     "data": {
      "text/plain": [
       "{}"
      ]
     },
     "execution_count": 4,
     "metadata": {},
     "output_type": "execute_result"
    }
   ],
   "source": [
    "class poly(dict):\n",
    "    def sayHello(self):\n",
    "        print(\"Hello\")\n",
    "    def printKeys(self):\n",
    "        for key in self:\n",
    "            print(key)\n",
    "            \n",
    "def zero(objectType):\n",
    "    if objectType == poly:\n",
    "        return poly({})\n",
    "    if objectType == int:\n",
    "        return 0\n",
    "    \n"
   ]
  },
  {
   "cell_type": "code",
   "execution_count": null,
   "metadata": {},
   "outputs": [],
   "source": []
  }
 ],
 "metadata": {
  "kernelspec": {
   "display_name": "SageMath 9.0",
   "language": "sage",
   "name": "sagemath"
  },
  "language_info": {
   "codemirror_mode": {
    "name": "ipython",
    "version": 3
   },
   "file_extension": ".py",
   "mimetype": "text/x-python",
   "name": "python",
   "nbconvert_exporter": "python",
   "pygments_lexer": "ipython3",
   "version": "3.7.3"
  }
 },
 "nbformat": 4,
 "nbformat_minor": 2
}
