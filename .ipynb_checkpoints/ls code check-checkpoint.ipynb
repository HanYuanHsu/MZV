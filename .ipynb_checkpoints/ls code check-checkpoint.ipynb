{
 "cells": [
  {
   "cell_type": "code",
   "execution_count": null,
   "metadata": {},
   "outputs": [],
   "source": []
  },
  {
   "cell_type": "code",
   "execution_count": 3,
   "metadata": {},
   "outputs": [],
   "source": [
    "def plus1(u, v): #v will CHANGE to u+v; u won't change\n",
    "    for k in u:\n",
    "        if k in v:\n",
    "            v[k] += u[k]\n",
    "        else:\n",
    "            v[k] = u[k]\n",
    "            \n",
    "def scal1(n, d): #d will CHANGE    \n",
    "    for k in d:\n",
    "        d[k] *= n\n",
    "\n",
    "def concat(u, v): #u,v are dicts with xy-string/z-value-tuple keys; return uv\n",
    "                    #watch out when u, v are empty dicts   \n",
    "    r = {}\n",
    "    for k in u:\n",
    "        for l in v:           \n",
    "            r[k + l] = u[k] * v[l] #k + l joins two strings or tuples\n",
    "    return r\n",
    "\n",
    "def l(u, v):\n",
    "    r = concat(v,u)\n",
    "    scal1(-1, r)\n",
    "    plus1(concat(u,v), r)\n",
    "    return r\n",
    "\n",
    "\n",
    "#Duval algorithm \n",
    "#outputs lyndon words of same depth, i.e. # of y, when you are using y_i words\n",
    "def lyndon_words(nx, ny):\n",
    "\n",
    "    #generate lyndon words of depth ny\n",
    "    #the alphabet set = {1,2,3,...,nx=wt-dp}, order is 1 < 2 < 3 < ...\n",
    "\n",
    "    output = []\n",
    "    w = [0]\n",
    "\n",
    "    # Loop till w is empty \n",
    "    while w: \n",
    "\n",
    "        # Incrementing the last character \n",
    "        w[-1] += 1\n",
    "        m = len(w) \n",
    "        if m == ny:\n",
    "            #w is lyndon. Output it\n",
    "            output.append(tuple(w)) #if w is not changed to tuple, will cause problems\n",
    "\n",
    "        # Repeating w to get an ny-length string \n",
    "        while len(w) < ny: \n",
    "            w.append(w[-m]) \n",
    "\n",
    "        # Removing the last character \n",
    "        # as long it is equal to \n",
    "        # the largest letter in the alphabet set\n",
    "        while w and w[-1] == nx: \n",
    "            w.pop()\n",
    "    \n",
    "    a = []\n",
    "    for i in range(ny-1):\n",
    "        a.append(1)\n",
    "    a.append(nx+1)\n",
    "    trimmed_output = [tuple(a)]\n",
    "        \n",
    "    #discard words not having weight wt0 = nx + ny\n",
    "    wt0 = nx + ny    \n",
    "    for i in range(len(output)):\n",
    "        wt = 0\n",
    "        for j in output[i]:\n",
    "            wt += j\n",
    "        \n",
    "        if wt == wt0:\n",
    "            trimmed_output.append(output[i])\n",
    "        \n",
    "    return trimmed_output #still follows the lexicographic order\n",
    "\n",
    "#can be faster\n",
    "def is_lyndon(t): #t: tuple; returns True if t is a letter\n",
    "    b = True\n",
    "    for i in range(1, len(t)):\n",
    "        b = b and ( t < t[i:] ) #the last one is t[len(t)-1:]\n",
    "    return b\n",
    "\n",
    "def standard_fac(t): #t: lyndon tuple; returns nothing if t is a letter\n",
    "    for i in range(1, len(t)):\n",
    "        if is_lyndon(t[:i]) and is_lyndon(t[i:]):      \n",
    "            return (t[:i], t[i:])\n",
    "        \n",
    "def lyn_lambda(t): #t: lyndon tuple\n",
    "    if len(t) == 1:\n",
    "        return t[0]\n",
    "    \n",
    "    t0, t1 = standard_fac(t)\n",
    "    return [lyn_lambda(t0), lyn_lambda(t1)]\n",
    "\n",
    "def lyn_lie_poly(t): #t: lyndon tuple\n",
    "    if len(t) == 1:\n",
    "        return {t: 1}\n",
    "    \n",
    "    t0, t1 = standard_fac(t)\n",
    "    return l( lyn_lie_poly(t0) , lyn_lie_poly(t1) )\n"
   ]
  },
  {
   "cell_type": "code",
   "execution_count": 4,
   "metadata": {},
   "outputs": [],
   "source": [
    "def sage_lyndon_words(nx, ny):\n",
    "    result = []\n",
    "    \n",
    "    #lyndon words with nx x's and ny y's cannot have a letter >= nx+ny+1\n",
    "    lyn = LyndonWords(nx+ny+1, ny) #LyndonWords(n,k): length k and over the alphabet {1,...,n}\n",
    "    lyn_list = lyn.list()\n",
    "    for i in range(0, len(lyn_list)):\n",
    "        t = tuple(lyn_list[i])\n",
    "        wt = 0\n",
    "        for j in t:\n",
    "            wt += j\n",
    "        if wt == nx+ny:\n",
    "            result.append(t)\n",
    "    return result\n",
    "\n",
    "def check_lyndon_words(nx, ny): \n",
    "    print('sage:')\n",
    "    print(sage_lyndon_words(nx, ny))\n",
    "    print('yours:')\n",
    "    print(lyndon_words(nx,ny))\n",
    "\n",
    "import sage.combinat.words.lyndon_word as sagelw\n",
    "def check_lyn_lambda(n, k):\n",
    "    print('sage:')\n",
    "    print( [sagelw.standard_bracketing(u) for u in LyndonWords(n,k)] )\n",
    "    print('yours:')\n",
    "    print( [lyn_lambda(u) for u in LyndonWords(n,k)] )"
   ]
  },
  {
   "cell_type": "code",
   "execution_count": 5,
   "metadata": {},
   "outputs": [
    {
     "name": "stdout",
     "output_type": "stream",
     "text": [
      "sage:\n",
      "[(1, 1, 1, 1, 8), (1, 1, 1, 2, 7), (1, 1, 1, 3, 6), (1, 1, 1, 4, 5), (1, 1, 1, 5, 4), (1, 1, 1, 6, 3), (1, 1, 1, 7, 2), (1, 1, 2, 1, 7), (1, 1, 2, 2, 6), (1, 1, 2, 3, 5), (1, 1, 2, 4, 4), (1, 1, 2, 5, 3), (1, 1, 2, 6, 2), (1, 1, 3, 1, 6), (1, 1, 3, 2, 5), (1, 1, 3, 3, 4), (1, 1, 3, 4, 3), (1, 1, 3, 5, 2), (1, 1, 4, 1, 5), (1, 1, 4, 2, 4), (1, 1, 4, 3, 3), (1, 1, 4, 4, 2), (1, 1, 5, 1, 4), (1, 1, 5, 2, 3), (1, 1, 5, 3, 2), (1, 1, 6, 1, 3), (1, 1, 6, 2, 2), (1, 1, 7, 1, 2), (1, 2, 1, 2, 6), (1, 2, 1, 3, 5), (1, 2, 1, 4, 4), (1, 2, 1, 5, 3), (1, 2, 1, 6, 2), (1, 2, 2, 1, 6), (1, 2, 2, 2, 5), (1, 2, 2, 3, 4), (1, 2, 2, 4, 3), (1, 2, 2, 5, 2), (1, 2, 3, 1, 5), (1, 2, 3, 2, 4), (1, 2, 3, 3, 3), (1, 2, 3, 4, 2), (1, 2, 4, 1, 4), (1, 2, 4, 2, 3), (1, 2, 4, 3, 2), (1, 2, 5, 1, 3), (1, 2, 5, 2, 2), (1, 3, 1, 3, 4), (1, 3, 1, 4, 3), (1, 3, 1, 5, 2), (1, 3, 2, 1, 5), (1, 3, 2, 2, 4), (1, 3, 2, 3, 3), (1, 3, 2, 4, 2), (1, 3, 3, 1, 4), (1, 3, 3, 2, 3), (1, 3, 3, 3, 2), (1, 3, 4, 2, 2), (1, 4, 1, 4, 2), (1, 4, 2, 2, 3), (1, 4, 2, 3, 2), (1, 4, 3, 2, 2), (1, 5, 2, 2, 2), (2, 2, 2, 2, 4), (2, 2, 2, 3, 3), (2, 2, 3, 2, 3)]\n",
      "yours:\n",
      "[(1, 1, 1, 1, 8), (1, 1, 1, 2, 7), (1, 1, 1, 3, 6), (1, 1, 1, 4, 5), (1, 1, 1, 5, 4), (1, 1, 1, 6, 3), (1, 1, 1, 7, 2), (1, 1, 2, 1, 7), (1, 1, 2, 2, 6), (1, 1, 2, 3, 5), (1, 1, 2, 4, 4), (1, 1, 2, 5, 3), (1, 1, 2, 6, 2), (1, 1, 3, 1, 6), (1, 1, 3, 2, 5), (1, 1, 3, 3, 4), (1, 1, 3, 4, 3), (1, 1, 3, 5, 2), (1, 1, 4, 1, 5), (1, 1, 4, 2, 4), (1, 1, 4, 3, 3), (1, 1, 4, 4, 2), (1, 1, 5, 1, 4), (1, 1, 5, 2, 3), (1, 1, 5, 3, 2), (1, 1, 6, 1, 3), (1, 1, 6, 2, 2), (1, 1, 7, 1, 2), (1, 2, 1, 2, 6), (1, 2, 1, 3, 5), (1, 2, 1, 4, 4), (1, 2, 1, 5, 3), (1, 2, 1, 6, 2), (1, 2, 2, 1, 6), (1, 2, 2, 2, 5), (1, 2, 2, 3, 4), (1, 2, 2, 4, 3), (1, 2, 2, 5, 2), (1, 2, 3, 1, 5), (1, 2, 3, 2, 4), (1, 2, 3, 3, 3), (1, 2, 3, 4, 2), (1, 2, 4, 1, 4), (1, 2, 4, 2, 3), (1, 2, 4, 3, 2), (1, 2, 5, 1, 3), (1, 2, 5, 2, 2), (1, 3, 1, 3, 4), (1, 3, 1, 4, 3), (1, 3, 1, 5, 2), (1, 3, 2, 1, 5), (1, 3, 2, 2, 4), (1, 3, 2, 3, 3), (1, 3, 2, 4, 2), (1, 3, 3, 1, 4), (1, 3, 3, 2, 3), (1, 3, 3, 3, 2), (1, 3, 4, 2, 2), (1, 4, 1, 4, 2), (1, 4, 2, 2, 3), (1, 4, 2, 3, 2), (1, 4, 3, 2, 2), (1, 5, 2, 2, 2), (2, 2, 2, 2, 4), (2, 2, 2, 3, 3), (2, 2, 3, 2, 3)]\n"
     ]
    }
   ],
   "source": [
    "check_lyndon_words(7, 5)"
   ]
  },
  {
   "cell_type": "code",
   "execution_count": 4,
   "metadata": {},
   "outputs": [
    {
     "data": {
      "text/plain": [
       "True"
      ]
     },
     "execution_count": 4,
     "metadata": {},
     "output_type": "execute_result"
    }
   ],
   "source": [
    "lyn = LyndonWords(3,5) #LyndonWords(n,k): length k and over the alphabet {1,...,n}\n",
    "tuple(lyn.list()[0]) == (1,1,1,1,2)"
   ]
  },
  {
   "cell_type": "code",
   "execution_count": 5,
   "metadata": {},
   "outputs": [
    {
     "name": "stdout",
     "output_type": "stream",
     "text": [
      "sage:\n",
      "[[1, [1, [1, 2]]], [1, [1, [1, 3]]], [1, [1, [1, 4]]], [1, [[1, 2], 2]], [1, [1, [2, 3]]], [1, [1, [2, 4]]], [1, [[1, 3], 2]], [1, [[1, 3], 3]], [1, [1, [3, 4]]], [1, [[1, 4], 2]], [1, [[1, 4], 3]], [1, [[1, 4], 4]], [[1, 2], [1, 3]], [[1, 2], [1, 4]], [[[1, 2], 2], 2], [1, [2, [2, 3]]], [1, [2, [2, 4]]], [[1, [2, 3]], 2], [1, [[2, 3], 3]], [1, [2, [3, 4]]], [[1, [2, 4]], 2], [1, [[2, 4], 3]], [1, [[2, 4], 4]], [[1, 3], [1, 4]], [[[1, 3], 2], 2], [[1, 3], [2, 3]], [[1, 3], [2, 4]], [[[1, 3], 3], 2], [[[1, 3], 3], 3], [1, [3, [3, 4]]], [[1, [3, 4]], 2], [[1, [3, 4]], 3], [1, [[3, 4], 4]], [[[1, 4], 2], 2], [[1, 4], [2, 3]], [[1, 4], [2, 4]], [[[1, 4], 3], 2], [[[1, 4], 3], 3], [[1, 4], [3, 4]], [[[1, 4], 4], 2], [[[1, 4], 4], 3], [[[1, 4], 4], 4], [2, [2, [2, 3]]], [2, [2, [2, 4]]], [2, [[2, 3], 3]], [2, [2, [3, 4]]], [2, [[2, 4], 3]], [2, [[2, 4], 4]], [[2, 3], [2, 4]], [[[2, 3], 3], 3], [2, [3, [3, 4]]], [[2, [3, 4]], 3], [2, [[3, 4], 4]], [[[2, 4], 3], 3], [[2, 4], [3, 4]], [[[2, 4], 4], 3], [[[2, 4], 4], 4], [3, [3, [3, 4]]], [3, [[3, 4], 4]], [[[3, 4], 4], 4]]\n",
      "yours:\n",
      "[[1, [1, [1, 2]]], [1, [1, [1, 3]]], [1, [1, [1, 4]]], [1, [[1, 2], 2]], [1, [1, [2, 3]]], [1, [1, [2, 4]]], [1, [[1, 3], 2]], [1, [[1, 3], 3]], [1, [1, [3, 4]]], [1, [[1, 4], 2]], [1, [[1, 4], 3]], [1, [[1, 4], 4]], [[1, 2], [1, 3]], [[1, 2], [1, 4]], [[[1, 2], 2], 2], [1, [2, [2, 3]]], [1, [2, [2, 4]]], [[1, [2, 3]], 2], [1, [[2, 3], 3]], [1, [2, [3, 4]]], [[1, [2, 4]], 2], [1, [[2, 4], 3]], [1, [[2, 4], 4]], [[1, 3], [1, 4]], [[[1, 3], 2], 2], [[1, 3], [2, 3]], [[1, 3], [2, 4]], [[[1, 3], 3], 2], [[[1, 3], 3], 3], [1, [3, [3, 4]]], [[1, [3, 4]], 2], [[1, [3, 4]], 3], [1, [[3, 4], 4]], [[[1, 4], 2], 2], [[1, 4], [2, 3]], [[1, 4], [2, 4]], [[[1, 4], 3], 2], [[[1, 4], 3], 3], [[1, 4], [3, 4]], [[[1, 4], 4], 2], [[[1, 4], 4], 3], [[[1, 4], 4], 4], [2, [2, [2, 3]]], [2, [2, [2, 4]]], [2, [[2, 3], 3]], [2, [2, [3, 4]]], [2, [[2, 4], 3]], [2, [[2, 4], 4]], [[2, 3], [2, 4]], [[[2, 3], 3], 3], [2, [3, [3, 4]]], [[2, [3, 4]], 3], [2, [[3, 4], 4]], [[[2, 4], 3], 3], [[2, 4], [3, 4]], [[[2, 4], 4], 3], [[[2, 4], 4], 4], [3, [3, [3, 4]]], [3, [[3, 4], 4]], [[[3, 4], 4], 4]]\n"
     ]
    }
   ],
   "source": [
    "check_lyn_lambda(4,4)"
   ]
  },
  {
   "cell_type": "code",
   "execution_count": null,
   "metadata": {},
   "outputs": [
    {
     "name": "stdout",
     "output_type": "stream",
     "text": [
      "sage first\n",
      "[(1,)]\n"
     ]
    }
   ],
   "source": [
    "#check_lyndon_words(0, 1) #will crash!"
   ]
  },
  {
   "cell_type": "code",
   "execution_count": 6,
   "metadata": {},
   "outputs": [
    {
     "name": "stdout",
     "output_type": "stream",
     "text": [
      "sage:\n",
      "[]\n",
      "yours:\n",
      "[(5,)]\n"
     ]
    }
   ],
   "source": [
    "check_lyndon_words(4, 0) #different"
   ]
  },
  {
   "cell_type": "code",
   "execution_count": 7,
   "metadata": {},
   "outputs": [
    {
     "name": "stdout",
     "output_type": "stream",
     "text": [
      "sage:\n",
      "[[1, [1, [1, 2]]], [1, [1, [1, 3]]], [1, [1, [1, 4]]], [1, [[1, 2], 2]], [1, [1, [2, 3]]], [1, [1, [2, 4]]], [1, [[1, 3], 2]], [1, [[1, 3], 3]], [1, [1, [3, 4]]], [1, [[1, 4], 2]], [1, [[1, 4], 3]], [1, [[1, 4], 4]], [[1, 2], [1, 3]], [[1, 2], [1, 4]], [[[1, 2], 2], 2], [1, [2, [2, 3]]], [1, [2, [2, 4]]], [[1, [2, 3]], 2], [1, [[2, 3], 3]], [1, [2, [3, 4]]], [[1, [2, 4]], 2], [1, [[2, 4], 3]], [1, [[2, 4], 4]], [[1, 3], [1, 4]], [[[1, 3], 2], 2], [[1, 3], [2, 3]], [[1, 3], [2, 4]], [[[1, 3], 3], 2], [[[1, 3], 3], 3], [1, [3, [3, 4]]], [[1, [3, 4]], 2], [[1, [3, 4]], 3], [1, [[3, 4], 4]], [[[1, 4], 2], 2], [[1, 4], [2, 3]], [[1, 4], [2, 4]], [[[1, 4], 3], 2], [[[1, 4], 3], 3], [[1, 4], [3, 4]], [[[1, 4], 4], 2], [[[1, 4], 4], 3], [[[1, 4], 4], 4], [2, [2, [2, 3]]], [2, [2, [2, 4]]], [2, [[2, 3], 3]], [2, [2, [3, 4]]], [2, [[2, 4], 3]], [2, [[2, 4], 4]], [[2, 3], [2, 4]], [[[2, 3], 3], 3], [2, [3, [3, 4]]], [[2, [3, 4]], 3], [2, [[3, 4], 4]], [[[2, 4], 3], 3], [[2, 4], [3, 4]], [[[2, 4], 4], 3], [[[2, 4], 4], 4], [3, [3, [3, 4]]], [3, [[3, 4], 4]], [[[3, 4], 4], 4]]\n",
      "yours:\n",
      "[[1, [1, [1, 2]]], [1, [1, [1, 3]]], [1, [1, [1, 4]]], [1, [[1, 2], 2]], [1, [1, [2, 3]]], [1, [1, [2, 4]]], [1, [[1, 3], 2]], [1, [[1, 3], 3]], [1, [1, [3, 4]]], [1, [[1, 4], 2]], [1, [[1, 4], 3]], [1, [[1, 4], 4]], [[1, 2], [1, 3]], [[1, 2], [1, 4]], [[[1, 2], 2], 2], [1, [2, [2, 3]]], [1, [2, [2, 4]]], [[1, [2, 3]], 2], [1, [[2, 3], 3]], [1, [2, [3, 4]]], [[1, [2, 4]], 2], [1, [[2, 4], 3]], [1, [[2, 4], 4]], [[1, 3], [1, 4]], [[[1, 3], 2], 2], [[1, 3], [2, 3]], [[1, 3], [2, 4]], [[[1, 3], 3], 2], [[[1, 3], 3], 3], [1, [3, [3, 4]]], [[1, [3, 4]], 2], [[1, [3, 4]], 3], [1, [[3, 4], 4]], [[[1, 4], 2], 2], [[1, 4], [2, 3]], [[1, 4], [2, 4]], [[[1, 4], 3], 2], [[[1, 4], 3], 3], [[1, 4], [3, 4]], [[[1, 4], 4], 2], [[[1, 4], 4], 3], [[[1, 4], 4], 4], [2, [2, [2, 3]]], [2, [2, [2, 4]]], [2, [[2, 3], 3]], [2, [2, [3, 4]]], [2, [[2, 4], 3]], [2, [[2, 4], 4]], [[2, 3], [2, 4]], [[[2, 3], 3], 3], [2, [3, [3, 4]]], [[2, [3, 4]], 3], [2, [[3, 4], 4]], [[[2, 4], 3], 3], [[2, 4], [3, 4]], [[[2, 4], 4], 3], [[[2, 4], 4], 4], [3, [3, [3, 4]]], [3, [[3, 4], 4]], [[[3, 4], 4], 4]]\n"
     ]
    }
   ],
   "source": [
    "check_lyn_lambda(4,4)"
   ]
  },
  {
   "cell_type": "code",
   "execution_count": 11,
   "metadata": {},
   "outputs": [
    {
     "name": "stdout",
     "output_type": "stream",
     "text": [
      "sage:\n",
      "[1]\n",
      "yours:\n",
      "[1]\n"
     ]
    }
   ],
   "source": [
    "check_lyn_lambda(1,1)"
   ]
  },
  {
   "cell_type": "code",
   "execution_count": 12,
   "metadata": {},
   "outputs": [
    {
     "name": "stdout",
     "output_type": "stream",
     "text": [
      "sage:\n",
      "[]\n",
      "yours:\n",
      "[]\n"
     ]
    }
   ],
   "source": [
    "check_lyn_lambda(1,3)"
   ]
  },
  {
   "cell_type": "code",
   "execution_count": 8,
   "metadata": {},
   "outputs": [
    {
     "ename": "TypeError",
     "evalue": "unhashable type: 'dict'",
     "output_type": "error",
     "traceback": [
      "\u001b[0;31m---------------------------------------------------------------------------\u001b[0m",
      "\u001b[0;31mTypeError\u001b[0m                                 Traceback (most recent call last)",
      "\u001b[0;32m<ipython-input-8-3118090b1e65>\u001b[0m in \u001b[0;36m<module>\u001b[0;34m()\u001b[0m\n\u001b[0;32m----> 1\u001b[0;31m \u001b[0ms\u001b[0m \u001b[0;34m=\u001b[0m \u001b[0;34m{\u001b[0m\u001b[0;34m{\u001b[0m\u001b[0;34m'x'\u001b[0m\u001b[0;34m:\u001b[0m \u001b[0mInteger\u001b[0m\u001b[0;34m(\u001b[0m\u001b[0;36m1\u001b[0m\u001b[0;34m)\u001b[0m\u001b[0;34m}\u001b[0m\u001b[0;34m,\u001b[0m \u001b[0mInteger\u001b[0m\u001b[0;34m(\u001b[0m\u001b[0;36m2\u001b[0m\u001b[0;34m)\u001b[0m\u001b[0;34m}\u001b[0m\u001b[0;34m;\u001b[0m \u001b[0ms\u001b[0m\u001b[0;34m\u001b[0m\u001b[0;34m\u001b[0m\u001b[0m\n\u001b[0m",
      "\u001b[0;31mTypeError\u001b[0m: unhashable type: 'dict'"
     ]
    }
   ],
   "source": [
    "s = {{'x': 1}, 2}; s #TypeError: unhashable type: 'dict'"
   ]
  },
  {
   "cell_type": "code",
   "execution_count": 12,
   "metadata": {},
   "outputs": [
    {
     "name": "stdout",
     "output_type": "stream",
     "text": [
      "{'banana', 'cherry', 'apple'}\n"
     ]
    }
   ],
   "source": [
    "thisset = {\"apple\", \"banana\", \"cherry\"}\n",
    "\n",
    "#thisset.add(\"apple\")\n",
    "\n",
    "print(thisset)"
   ]
  },
  {
   "cell_type": "code",
   "execution_count": 15,
   "metadata": {},
   "outputs": [],
   "source": [
    "def hiking(sunny=True):\n",
    "    if sunny:\n",
    "        print('can go hiking')\n",
    "    else:\n",
    "        print('can\\'t go hiking')"
   ]
  },
  {
   "cell_type": "code",
   "execution_count": 18,
   "metadata": {
    "scrolled": true
   },
   "outputs": [
    {
     "name": "stdout",
     "output_type": "stream",
     "text": [
      "can't go hiking\n"
     ]
    }
   ],
   "source": [
    "hiking(sunny=False)"
   ]
  },
  {
   "cell_type": "code",
   "execution_count": 6,
   "metadata": {},
   "outputs": [],
   "source": [
    "class ls:\n",
    "    def __init__(self, nx, ny):\n",
    "        self.nx = nx\n",
    "        self.ny = ny\n",
    "        nz = 6\n",
    "        \n",
    "    def print_result(self):\n",
    "        print('(nx, ny) = {}'.format((self.nx, self.ny)))\n",
    "    \n",
    "    class calculation:\n",
    "        def summation()\n",
    "        \n",
    "        "
   ]
  },
  {
   "cell_type": "code",
   "execution_count": 7,
   "metadata": {},
   "outputs": [
    {
     "data": {
      "text/plain": [
       "<class '__main__.ls.child'>"
      ]
     },
     "execution_count": 7,
     "metadata": {},
     "output_type": "execute_result"
    }
   ],
   "source": []
  },
  {
   "cell_type": "code",
   "execution_count": null,
   "metadata": {},
   "outputs": [],
   "source": []
  }
 ],
 "metadata": {
  "kernelspec": {
   "display_name": "SageMath 9.0",
   "language": "sage",
   "name": "sagemath"
  },
  "language_info": {
   "codemirror_mode": {
    "name": "ipython",
    "version": 3
   },
   "file_extension": ".py",
   "mimetype": "text/x-python",
   "name": "python",
   "nbconvert_exporter": "python",
   "pygments_lexer": "ipython3",
   "version": "3.7.3"
  }
 },
 "nbformat": 4,
 "nbformat_minor": 2
}
