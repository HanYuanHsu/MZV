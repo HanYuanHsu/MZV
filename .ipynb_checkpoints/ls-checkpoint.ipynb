{
 "cells": [
  {
   "cell_type": "markdown",
   "metadata": {},
   "source": [
    "A word w is a Lyndon word if and only if it is nonempty and lexicographically strictly smaller than any of its proper suffixes, that is, w < v for all nonempty words v such that w = uv and u is nonempty. Equivalently, a Lyndon word is a nonempty string that is strictly smaller in lexicographic order than all of its rotations. For example, xxxyy is a Lyndon word: xxxyy < xxyy, xxxyy < xyy, xxxyy < yy, and xxxyy < y. But xyxy is not Lyndon because xyxy >= xy. <br><br> We care about Lyndon words because they serve as a \"basis\" for factorization of words. Every word may be factorized in a unique way by concatenating a sequence of Lyndon words, in such a way that the words in the sequence are nonincreasing lexicographically. Lyndon words are also very important in the research of MZVs. That is because every word polynomial (non-commutative) can be written uniquely as a shuffle polynomial of Lyndon words. "
   ]
  },
  {
   "cell_type": "markdown",
   "metadata": {},
   "source": [
    "We use Duval's algorithm to generate all Lyndon words up to a given length in lexicographic order. If w is a Lyndon word, the next Lyndon word is obtained by the following steps:\n",
    "\n",
    "1. Repeat w to form a string v of length n, such that v[i] = w[i mod |w|].\n",
    "2. While the last character of v is the last one in the sorted ordering of S, remove it.\n",
    "3. Replace the last character of v by its successor in the sorted ordering of S.\n",
    "\n",
    "For example, if n = 5, S = {a, b, c, d}, and w = “add” then we get v = “addad”. Since ‘d’ is the last character in the sorted ordering of S, we remove it to get “adda” and then replace the last ‘a’ by its successor ‘b’ to get the Lyndon word “addb”."
   ]
  },
  {
   "cell_type": "code",
   "execution_count": 3,
   "metadata": {},
   "outputs": [
    {
     "name": "stdout",
     "output_type": "stream",
     "text": [
      "xxxxxy\n",
      "xxxxyy\n",
      "xxxyxy\n",
      "xxxyyy\n",
      "xxyxyy\n",
      "xxyyxy\n",
      "xxyyyy\n",
      "xyxyyy\n",
      "xyyyyy\n"
     ]
    }
   ],
   "source": [
    "# Duval algorithm \n",
    "# outputs lyndon words of same depth, i.e. # of y, when you are using y_i words\n",
    "# \n",
    "\n",
    "n = 6 #length of the output words\n",
    "S = ['x', 'y']\n",
    "k = len(S) \n",
    "S.sort() \n",
    "  \n",
    "# To store the indices \n",
    "# of the characters \n",
    "w = [-1]\n",
    "  \n",
    "# Loop till w is empty \n",
    "while w: \n",
    "  \n",
    "    # Incrementing the last character \n",
    "    w[-1] += 1\n",
    "    m = len(w) \n",
    "    if m == n: \n",
    "        print(''.join(S[i] for i in w))\n",
    "    \n",
    "    # Repeating w to get a \n",
    "    # n-length string \n",
    "    while len(w) < n: \n",
    "        w.append(w[-m]) \n",
    "    \n",
    "    # Removing the last character \n",
    "    # as long it is equal to \n",
    "    # the largest character in S \n",
    "    while w and w[-1] == k - 1: \n",
    "        w.pop()"
   ]
  },
  {
   "cell_type": "code",
   "execution_count": 2,
   "metadata": {},
   "outputs": [],
   "source": [
    "def plus1(u, v): #v will CHANGE to u+v; u won't change\n",
    "    for k in u:\n",
    "        if k in v:\n",
    "            v[k] += u[k]\n",
    "        else:\n",
    "            v[k] = u[k]\n",
    "            \n",
    "def scal1(n, d): #d will CHANGE    \n",
    "    for k in d:\n",
    "        d[k] *= n\n",
    "\n",
    "def concat(u, v): #u,v are dicts with xy-string/z-value-tuple keys; return uv\n",
    "                    #watch out when u, v are empty dicts   \n",
    "    r = {}\n",
    "    for k in u:\n",
    "        for l in v:           \n",
    "            r[k + l] = u[k] * v[l] #k + l joins two strings or tuples\n",
    "    return r\n",
    "\n",
    "def l(u, v):\n",
    "    r = concat(v,u)\n",
    "    scal1(-1, r)\n",
    "    plus1(concat(u,v), r)\n",
    "    return r\n",
    "\n",
    "class z:\n",
    "    \n",
    "    #PUT THE LAST PART INTO THE if m == ny PART\n",
    "    #generate lyndon words of depth ny\n",
    "    #the alphabet set = {1,2,3,...,nx=wt-dp}, order is 1 < 2 < 3 < ...\n",
    "    def lyndon_words(nx, ny):\n",
    "\n",
    "        #this part is added after the code check\n",
    "        if nx == 0:\n",
    "            if ny == 1:\n",
    "                return [(1,)]\n",
    "            else:\n",
    "                return []\n",
    "        if ny == 0:\n",
    "            return []\n",
    "\n",
    "        output = []\n",
    "        w = [0]\n",
    "\n",
    "        # Loop till w is empty \n",
    "        while w: \n",
    "\n",
    "            # Incrementing the last character \n",
    "            w[-1] += 1\n",
    "            m = len(w) \n",
    "            if m == ny:\n",
    "                #w is lyndon. Output it\n",
    "                output.append(tuple(w)) #if w is not changed to tuple, will cause problems\n",
    "\n",
    "            # Repeating w to get an ny-length string \n",
    "            while len(w) < ny: \n",
    "                w.append(w[-m]) \n",
    "\n",
    "            # Removing the last character \n",
    "            # as long it is equal to \n",
    "            # the largest letter in the alphabet set\n",
    "            while w and w[-1] == nx: \n",
    "                w.pop()\n",
    "\n",
    "        a = []\n",
    "        for i in range(ny-1):\n",
    "            a.append(1)\n",
    "        a.append(nx+1)\n",
    "        trimmed_output = [tuple(a)]\n",
    "\n",
    "        #discard words not having weight wt0 = nx + ny\n",
    "        wt0 = nx + ny    \n",
    "        for i in range(len(output)):\n",
    "            wt = 0\n",
    "            for j in output[i]:\n",
    "                wt += j\n",
    "\n",
    "            if wt == wt0:\n",
    "                trimmed_output.append(output[i])\n",
    "\n",
    "        return trimmed_output #still follows the lexicographic order\n",
    "### end of class z ###\n",
    "\n",
    "def is_lyndon(t): #t: tuple; returns True if t is a letter\n",
    "    for i in range(1, len(t)): #the last i is len(t)-1\n",
    "        if t >= t[i:]: return False\n",
    "    return True\n",
    "\n",
    "def standard_fac(t): #t: lyndon tuple; returns nothing if t is a letter\n",
    "    for i in range(1, len(t)):\n",
    "        if is_lyndon(t[:i]) and is_lyndon(t[i:]):      \n",
    "            return (t[:i], t[i:])\n",
    "        \n",
    "def lyn_lambda(t): #t: lyndon tuple\n",
    "    if len(t) == 1:\n",
    "        return t[0]\n",
    "    \n",
    "    t0, t1 = standard_fac(t)\n",
    "    return [lyn_lambda(t0), lyn_lambda(t1)]\n",
    "\n",
    "def lyn_lie_poly(t): #t: lyndon tuple\n",
    "    if len(t) == 1:\n",
    "        return {t: 1}\n",
    "    \n",
    "    t0, t1 = standard_fac(t)\n",
    "    return l( lyn_lie_poly(t0) , lyn_lie_poly(t1) )\n",
    "\n",
    "class xy:\n",
    "    def lyndon_words(nx, ny):\n",
    "        if nx == ny == 0: return []\n",
    "        \n",
    "        wt = nx + ny\n",
    "        output = []\n",
    "        w = [-1]\n",
    "\n",
    "        # Loop till w is empty \n",
    "        while w: \n",
    "\n",
    "            # Incrementing the last character \n",
    "            w[-1] += 1\n",
    "            m = len(w) \n",
    "            if m == wt:                \n",
    "                #get the number of 1's in w\n",
    "                ny_in_w = 0\n",
    "                for i in w: ny_in_w += i\n",
    "                \n",
    "                if ny_in_w == ny:\n",
    "                    output.append(tuple(w))\n",
    "\n",
    "            # Repeating w to get a wt-length string \n",
    "            while len(w) < wt: \n",
    "                w.append(w[-m]) \n",
    "\n",
    "            # Removing the last character \n",
    "            # as long it is equal to \n",
    "            # the largest letter in the alphabet set\n",
    "            while w and w[-1] == 1: \n",
    "                w.pop()\n",
    "                \n",
    "        return output\n",
    "    \n",
    "    def toz(d): #this is the projection map pi_y. 程式碼參考自mzv.py中的toz\n",
    "        # e.g. k = (0,0,1,0,1,1,0,0,0,1). place of 1's: 2, 4, 5, 9. The result is (3,2,1,4) = (2+1,4-2,5-4,9-5). \n",
    "\n",
    "        r = {}\n",
    "        for k in d:\n",
    "            if k[-1] == 0: continue\n",
    "            \n",
    "            l = []\n",
    "            #l records position of 1's\n",
    "            for i in range(len(k)): #i=0 ~ len(k)-1\n",
    "                if k[i] == 1:\n",
    "                    l.append(i)\n",
    "\n",
    "            ll = [ l[0] + 1 ]\n",
    "            for i in range(0, len(l)-1): # 0 =< i =< (len(l)-1)-1 = len(l)-2\n",
    "                ll.append(l[i+1] - l[i])\n",
    "\n",
    "            t = tuple(ll)\n",
    "            r[t] = d[k]\n",
    "            \n",
    "        return r\n",
    "\n",
    "### end of class xy ###\n",
    "\n",
    "def compare(nx, ny):\n",
    "\n",
    "    lxy = xy.lyndon_words(nx, ny)\n",
    "    lz = z.lyndon_words(nx, ny)\n",
    "    llxy_before_toz = [ lyn_lie_poly( t ) for t in lxy ] #basis of the primitive elements of xy-shuffle (with nx x's and ny y's)\n",
    "    llxy = [ xy.toz(lyn_lie_poly( t )) for t in lxy ] \n",
    "    llz =  [ lyn_lie_poly( t ) for t in lz ] #basis of the primitive elements of z-value-shuffle (with nx x's and ny y's)\n",
    "    \n",
    "    print('primitive elements of xy-shuffle:')\n",
    "    print(llxy_before_toz)\n",
    "    print('pi_y( primitive elements of xy-shuffle ):')\n",
    "    print(llxy)\n",
    "    print('primitive elements of z-value-shuffle:')\n",
    "    print(llz)"
   ]
  },
  {
   "cell_type": "code",
   "execution_count": 4,
   "metadata": {},
   "outputs": [
    {
     "data": {
      "text/plain": [
       "[(1, 7), (2, 6), (3, 5)]"
      ]
     },
     "execution_count": 4,
     "metadata": {},
     "output_type": "execute_result"
    }
   ],
   "source": [
    "z.lyndon_words(6,2)"
   ]
  },
  {
   "cell_type": "code",
   "execution_count": 17,
   "metadata": {},
   "outputs": [
    {
     "data": {
      "text/plain": [
       "True"
      ]
     },
     "execution_count": 17,
     "metadata": {},
     "output_type": "execute_result"
    }
   ],
   "source": [
    "is_lyndon((3, 4, 4))"
   ]
  },
  {
   "cell_type": "code",
   "execution_count": 93,
   "metadata": {},
   "outputs": [
    {
     "data": {
      "text/plain": [
       "{'yx': -1, 'xy': 1}"
      ]
     },
     "execution_count": 93,
     "metadata": {},
     "output_type": "execute_result"
    }
   ],
   "source": [
    "x = {\n",
    "    'x': 1\n",
    "}\n",
    "y = {\n",
    "    'y': 1\n",
    "}\n",
    "l(x,y)"
   ]
  },
  {
   "cell_type": "code",
   "execution_count": 10,
   "metadata": {},
   "outputs": [
    {
     "data": {
      "text/plain": [
       "[0, [[0, 1], 1]]"
      ]
     },
     "execution_count": 10,
     "metadata": {},
     "output_type": "execute_result"
    }
   ],
   "source": [
    "lyn_lambda((0,0,1,1))"
   ]
  },
  {
   "cell_type": "code",
   "execution_count": 39,
   "metadata": {},
   "outputs": [
    {
     "data": {
      "text/plain": [
       "{(2, 2): -2, (3, 1): 1}"
      ]
     },
     "execution_count": 39,
     "metadata": {},
     "output_type": "execute_result"
    }
   ],
   "source": [
    "xy.toz(lyn_lie_poly( (0,0,1,1) ))"
   ]
  },
  {
   "cell_type": "code",
   "execution_count": 60,
   "metadata": {},
   "outputs": [
    {
     "name": "stdout",
     "output_type": "stream",
     "text": [
      "primitive elements of xy-shuffle:\n",
      "[{(1, 1, 0): 1, (1, 0, 1): -2, (0, 1, 1): 1}]\n",
      "pi_y( primitive elements of xy-shuffle ):\n",
      "[{(1, 2): -2, (2, 1): 1}]\n",
      "primitive elements of z-value-shuffle:\n",
      "[{(2, 1): -1, (1, 2): 1}]\n"
     ]
    }
   ],
   "source": [
    "compare(1,2)"
   ]
  },
  {
   "cell_type": "code",
   "execution_count": 62,
   "metadata": {},
   "outputs": [
    {
     "name": "stdout",
     "output_type": "stream",
     "text": [
      "primitive elements of xy-shuffle:\n",
      "[]\n",
      "pi_y( primitive elements of xy-shuffle ):\n",
      "[]\n",
      "primitive elements of z-value-shuffle:\n",
      "[]\n"
     ]
    }
   ],
   "source": [
    "compare(0,3)"
   ]
  },
  {
   "cell_type": "code",
   "execution_count": 63,
   "metadata": {},
   "outputs": [
    {
     "name": "stdout",
     "output_type": "stream",
     "text": [
      "primitive elements of xy-shuffle:\n",
      "[{(1, 1, 0, 0): -1, (1, 0, 1, 0): 2, (0, 1, 1, 0): 0, (0, 1, 0, 1): -2, (0, 0, 1, 1): 1}]\n",
      "pi_y( primitive elements of xy-shuffle ):\n",
      "[{(2, 2): -2, (3, 1): 1}]\n",
      "primitive elements of z-value-shuffle:\n",
      "[{(3, 1): -1, (1, 3): 1}]\n"
     ]
    }
   ],
   "source": [
    "compare(2,2)"
   ]
  },
  {
   "cell_type": "code",
   "execution_count": 57,
   "metadata": {},
   "outputs": [
    {
     "name": "stdout",
     "output_type": "stream",
     "text": [
      "primitive elements of xy-shuffle:\n",
      "[{(1, 1, 1, 0): -1, (1, 1, 0, 1): 3, (1, 0, 1, 1): -3, (0, 1, 1, 1): 1}]\n",
      "pi_y( primitive elements of xy-shuffle ):\n",
      "[{(1, 1, 2): 3, (1, 2, 1): -3, (2, 1, 1): 1}]\n",
      "primitive elements of z-value-shuffle:\n",
      "[{(2, 1, 1): 1, (1, 2, 1): -2, (1, 1, 2): 1}]\n"
     ]
    }
   ],
   "source": [
    "compare(1,3)"
   ]
  },
  {
   "cell_type": "code",
   "execution_count": 58,
   "metadata": {},
   "outputs": [
    {
     "name": "stdout",
     "output_type": "stream",
     "text": [
      "primitive elements of xy-shuffle:\n",
      "[{(1, 0, 0, 0): -1, (0, 1, 0, 0): 3, (0, 0, 1, 0): -3, (0, 0, 0, 1): 1}]\n",
      "pi_y( primitive elements of xy-shuffle ):\n",
      "[{(4,): 1}]\n",
      "primitive elements of z-value-shuffle:\n",
      "[{(4,): 1}]\n"
     ]
    }
   ],
   "source": [
    "compare(3,1) #lambda(xxxy) satisfies the defining properties of ls, but is purposedly excluded from ls.\n",
    "#so this element does not contradict the parity result (Corollary 3.4.4) even if nx is odd."
   ]
  },
  {
   "cell_type": "code",
   "execution_count": 59,
   "metadata": {},
   "outputs": [
    {
     "name": "stdout",
     "output_type": "stream",
     "text": [
      "primitive elements of xy-shuffle:\n",
      "[{(1, 0, 0, 0, 0): 1, (0, 1, 0, 0, 0): -4, (0, 0, 1, 0, 0): 6, (0, 0, 0, 1, 0): -4, (0, 0, 0, 0, 1): 1}]\n",
      "pi_y( primitive elements of xy-shuffle ):\n",
      "[{(5,): 1}]\n",
      "primitive elements of z-value-shuffle:\n",
      "[{(5,): 1}]\n"
     ]
    }
   ],
   "source": [
    "compare(4,1) #as above"
   ]
  },
  {
   "cell_type": "code",
   "execution_count": 3,
   "metadata": {},
   "outputs": [
    {
     "name": "stdout",
     "output_type": "stream",
     "text": [
      "primitive elements of xy-shuffle:\n",
      "[{(1, 1, 0, 0, 0): 1, (1, 0, 1, 0, 0): -2, (0, 1, 1, 0, 0): -1, (0, 1, 0, 1, 0): 4, (0, 0, 1, 1, 0): -1, (0, 0, 1, 0, 1): -2, (0, 0, 0, 1, 1): 1}, {(1, 0, 1, 0, 0): 1, (1, 0, 0, 1, 0): -3, (1, 0, 0, 0, 1): 2, (0, 1, 1, 0, 0): -1, (0, 1, 0, 1, 0): 4, (0, 1, 0, 0, 1): -3, (0, 0, 1, 1, 0): -1, (0, 0, 1, 0, 1): 1}]\n",
      "pi_y( primitive elements of xy-shuffle ):\n",
      "[{(3, 2): -2, (4, 1): 1}, {(1, 4): 2, (2, 3): -3, (3, 2): 1}]\n",
      "primitive elements of z-value-shuffle:\n",
      "[{(4, 1): -1, (1, 4): 1}, {(3, 2): -1, (2, 3): 1}]\n"
     ]
    }
   ],
   "source": [
    "compare(3,2)"
   ]
  },
  {
   "cell_type": "code",
   "execution_count": 4,
   "metadata": {},
   "outputs": [
    {
     "name": "stdout",
     "output_type": "stream",
     "text": [
      "primitive elements of xy-shuffle:\n",
      "[{(1, 1, 1, 0, 0): 1, (1, 1, 0, 1, 0): -3, (1, 0, 1, 1, 0): 3, (0, 1, 1, 1, 0): -2, (0, 1, 1, 0, 1): 3, (0, 1, 0, 1, 1): -3, (0, 0, 1, 1, 1): 1}, {(1, 1, 0, 1, 0): 1, (1, 1, 0, 0, 1): -1, (1, 0, 1, 1, 0): -3, (1, 0, 1, 0, 1): 4, (0, 1, 1, 1, 0): 2, (0, 1, 1, 0, 1): -3, (1, 0, 0, 1, 1): -1, (0, 1, 0, 1, 1): 1}]\n",
      "pi_y( primitive elements of xy-shuffle ):\n",
      "[{(2, 1, 2): 3, (2, 2, 1): -3, (3, 1, 1): 1}, {(1, 1, 3): -1, (1, 2, 2): 4, (2, 1, 2): -3, (1, 3, 1): -1, (2, 2, 1): 1}]\n",
      "primitive elements of z-value-shuffle:\n",
      "[{(3, 1, 1): 1, (1, 3, 1): -2, (1, 1, 3): 1}, {(2, 2, 1): 1, (2, 1, 2): -2, (1, 2, 2): 1}]\n"
     ]
    }
   ],
   "source": [
    "compare(2,3)"
   ]
  },
  {
   "cell_type": "code",
   "execution_count": 5,
   "metadata": {},
   "outputs": [
    {
     "name": "stdout",
     "output_type": "stream",
     "text": [
      "primitive elements of xy-shuffle:\n",
      "[{(1, 1, 1, 1, 0): 1, (1, 1, 1, 0, 1): -4, (1, 1, 0, 1, 1): 6, (1, 0, 1, 1, 1): -4, (0, 1, 1, 1, 1): 1}]\n",
      "pi_y( primitive elements of xy-shuffle ):\n",
      "[{(1, 1, 1, 2): -4, (1, 1, 2, 1): 6, (1, 2, 1, 1): -4, (2, 1, 1, 1): 1}]\n",
      "primitive elements of z-value-shuffle:\n",
      "[{(2, 1, 1, 1): -1, (1, 2, 1, 1): 3, (1, 1, 2, 1): -3, (1, 1, 1, 2): 1}]\n"
     ]
    }
   ],
   "source": [
    "compare(1,4)"
   ]
  },
  {
   "cell_type": "code",
   "execution_count": null,
   "metadata": {},
   "outputs": [],
   "source": []
  }
 ],
 "metadata": {
  "kernelspec": {
   "display_name": "Python 3 (ipykernel)",
   "language": "python",
   "name": "python3"
  },
  "language_info": {
   "codemirror_mode": {
    "name": "ipython",
    "version": 3
   },
   "file_extension": ".py",
   "mimetype": "text/x-python",
   "name": "python",
   "nbconvert_exporter": "python",
   "pygments_lexer": "ipython3",
   "version": "3.10.10"
  }
 },
 "nbformat": 4,
 "nbformat_minor": 4
}
